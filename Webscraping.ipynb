{
  "nbformat": 4,
  "nbformat_minor": 0,
  "metadata": {
    "colab": {
      "name": "Webscraping.ipynb",
      "provenance": [],
      "collapsed_sections": [],
      "authorship_tag": "ABX9TyPhuUsfMB93VVLtyX2DGEtO",
      "include_colab_link": true
    },
    "kernelspec": {
      "name": "python3",
      "display_name": "Python 3"
    },
    "language_info": {
      "name": "python"
    }
  },
  "cells": [
    {
      "cell_type": "markdown",
      "metadata": {
        "id": "view-in-github",
        "colab_type": "text"
      },
      "source": [
        "<a href=\"https://colab.research.google.com/github/pragtim/Web-Scrapping/blob/main/Webscraping.ipynb\" target=\"_parent\"><img src=\"https://colab.research.google.com/assets/colab-badge.svg\" alt=\"Open In Colab\"/></a>"
      ]
    },
    {
      "cell_type": "markdown",
      "metadata": {
        "id": "JKLkJE6oRvB1"
      },
      "source": [
        "###Web Scraping Project"
      ]
    },
    {
      "cell_type": "code",
      "metadata": {
        "id": "yNnvLqiBOyxM"
      },
      "source": [
        "import requests"
      ],
      "execution_count": null,
      "outputs": []
    },
    {
      "cell_type": "code",
      "metadata": {
        "id": "O1sfms5XRGTT"
      },
      "source": [
        "topics_url = 'https://github.com/topics'"
      ],
      "execution_count": null,
      "outputs": []
    },
    {
      "cell_type": "code",
      "metadata": {
        "id": "UhctxzsRRUfI"
      },
      "source": [
        "response = requests.get(topics_url)"
      ],
      "execution_count": null,
      "outputs": []
    },
    {
      "cell_type": "code",
      "metadata": {
        "colab": {
          "base_uri": "https://localhost:8080/"
        },
        "id": "0sqqTJ50RcDf",
        "outputId": "ec0a07bc-9007-46be-b93c-38c3d2b63a9d"
      },
      "source": [
        "response.status_code"
      ],
      "execution_count": null,
      "outputs": [
        {
          "output_type": "execute_result",
          "data": {
            "text/plain": [
              "200"
            ]
          },
          "metadata": {},
          "execution_count": 108
        }
      ]
    },
    {
      "cell_type": "code",
      "metadata": {
        "colab": {
          "base_uri": "https://localhost:8080/"
        },
        "id": "zYfyu-mgRsoa",
        "outputId": "318433cc-17c0-4fb1-e4e6-108a1da82247"
      },
      "source": [
        "len(response.text)"
      ],
      "execution_count": null,
      "outputs": [
        {
          "output_type": "execute_result",
          "data": {
            "text/plain": [
              "137193"
            ]
          },
          "metadata": {},
          "execution_count": 109
        }
      ]
    },
    {
      "cell_type": "code",
      "metadata": {
        "id": "gPc8PqaESPcV"
      },
      "source": [
        "page_content = response.text"
      ],
      "execution_count": null,
      "outputs": []
    },
    {
      "cell_type": "code",
      "metadata": {
        "colab": {
          "base_uri": "https://localhost:8080/",
          "height": 87
        },
        "id": "izCXKmh6SZAg",
        "outputId": "f944677a-2596-4c50-c3cc-025f122b0bce"
      },
      "source": [
        "page_content[:500]"
      ],
      "execution_count": null,
      "outputs": [
        {
          "output_type": "execute_result",
          "data": {
            "application/vnd.google.colaboratory.intrinsic+json": {
              "type": "string"
            },
            "text/plain": [
              "'\\n\\n<!DOCTYPE html>\\n<html lang=\"en\" data-color-mode=\"auto\" data-light-theme=\"light\" data-dark-theme=\"dark\">\\n  <head>\\n    <meta charset=\"utf-8\">\\n  <link rel=\"dns-prefetch\" href=\"https://github.githubassets.com\">\\n  <link rel=\"dns-prefetch\" href=\"https://avatars.githubusercontent.com\">\\n  <link rel=\"dns-prefetch\" href=\"https://github-cloud.s3.amazonaws.com\">\\n  <link rel=\"dns-prefetch\" href=\"https://user-images.githubusercontent.com/\">\\n  <link rel=\"preconnect\" href=\"https://github.githubassets.com\" cro'"
            ]
          },
          "metadata": {},
          "execution_count": 111
        }
      ]
    },
    {
      "cell_type": "code",
      "metadata": {
        "id": "iVBh0GznSeGM"
      },
      "source": [
        "with open('webpage.html','w') as f:\n",
        "  f.write(page_content)"
      ],
      "execution_count": null,
      "outputs": []
    },
    {
      "cell_type": "code",
      "metadata": {
        "id": "9UbOgUB-UJ3T"
      },
      "source": [
        "from bs4 import BeautifulSoup"
      ],
      "execution_count": null,
      "outputs": []
    },
    {
      "cell_type": "code",
      "metadata": {
        "id": "s62_CfcwVROP"
      },
      "source": [
        "doc = BeautifulSoup(page_content,'html.parser')"
      ],
      "execution_count": null,
      "outputs": []
    },
    {
      "cell_type": "code",
      "metadata": {
        "id": "HQIPPEFNVgn0"
      },
      "source": [
        "p_tags = doc.find_all('p')"
      ],
      "execution_count": null,
      "outputs": []
    },
    {
      "cell_type": "code",
      "metadata": {
        "colab": {
          "base_uri": "https://localhost:8080/"
        },
        "id": "0mjx3AUAV5gV",
        "outputId": "fea449a4-76b3-4a9e-98e0-cece988c0d8b"
      },
      "source": [
        "len(p_tags)"
      ],
      "execution_count": null,
      "outputs": [
        {
          "output_type": "execute_result",
          "data": {
            "text/plain": [
              "67"
            ]
          },
          "metadata": {},
          "execution_count": 116
        }
      ]
    },
    {
      "cell_type": "code",
      "metadata": {
        "id": "BbanLbZmV7x5"
      },
      "source": [
        "selection_class = 'f3 lh-condensed mb-0 mt-1 Link--primary'"
      ],
      "execution_count": null,
      "outputs": []
    },
    {
      "cell_type": "code",
      "metadata": {
        "colab": {
          "base_uri": "https://localhost:8080/"
        },
        "id": "s-drX9SaYg8J",
        "outputId": "bea1eeec-5741-4802-fd9f-2bc837810c8b"
      },
      "source": [
        "topic_title_tags = doc.find_all('p',{'class' : selection_class})\n",
        "len(topic_title_tags)"
      ],
      "execution_count": null,
      "outputs": [
        {
          "output_type": "execute_result",
          "data": {
            "text/plain": [
              "30"
            ]
          },
          "metadata": {},
          "execution_count": 118
        }
      ]
    },
    {
      "cell_type": "code",
      "metadata": {
        "colab": {
          "base_uri": "https://localhost:8080/"
        },
        "id": "ifBW7lDEY7zD",
        "outputId": "82c119e0-1621-4f07-c173-439d991c637a"
      },
      "source": [
        "topic_title_tags[:5]"
      ],
      "execution_count": null,
      "outputs": [
        {
          "output_type": "execute_result",
          "data": {
            "text/plain": [
              "[<p class=\"f3 lh-condensed mb-0 mt-1 Link--primary\">3D</p>,\n",
              " <p class=\"f3 lh-condensed mb-0 mt-1 Link--primary\">Ajax</p>,\n",
              " <p class=\"f3 lh-condensed mb-0 mt-1 Link--primary\">Algorithm</p>,\n",
              " <p class=\"f3 lh-condensed mb-0 mt-1 Link--primary\">Amp</p>,\n",
              " <p class=\"f3 lh-condensed mb-0 mt-1 Link--primary\">Android</p>]"
            ]
          },
          "metadata": {},
          "execution_count": 119
        }
      ]
    },
    {
      "cell_type": "code",
      "metadata": {
        "id": "7ESmVQh7ZBrz"
      },
      "source": [
        "desc_selector = 'f5 color-text-secondary mb-0 mt-1'\n",
        "topic_desc_tag = doc.find_all('p',{'class' : desc_selector})\n",
        "              "
      ],
      "execution_count": null,
      "outputs": []
    },
    {
      "cell_type": "code",
      "metadata": {
        "colab": {
          "base_uri": "https://localhost:8080/"
        },
        "id": "aK5qFRvTZ-t-",
        "outputId": "2ab34f4a-c9bf-43cf-daac-d6f8350ea3bd"
      },
      "source": [
        "topic_desc_tag[:5]"
      ],
      "execution_count": null,
      "outputs": [
        {
          "output_type": "execute_result",
          "data": {
            "text/plain": [
              "[<p class=\"f5 color-text-secondary mb-0 mt-1\">\n",
              "               3D modeling is the process of virtually developing the surface and structure of a 3D object.\n",
              "             </p>, <p class=\"f5 color-text-secondary mb-0 mt-1\">\n",
              "               Ajax is a technique for creating interactive web applications.\n",
              "             </p>, <p class=\"f5 color-text-secondary mb-0 mt-1\">\n",
              "               Algorithms are self-contained sequences that carry out a variety of tasks.\n",
              "             </p>, <p class=\"f5 color-text-secondary mb-0 mt-1\">\n",
              "               Amp is a non-blocking concurrency framework for PHP.\n",
              "             </p>, <p class=\"f5 color-text-secondary mb-0 mt-1\">\n",
              "               Android is an operating system built by Google designed for mobile devices.\n",
              "             </p>]"
            ]
          },
          "metadata": {},
          "execution_count": 121
        }
      ]
    },
    {
      "cell_type": "code",
      "metadata": {
        "id": "sMy_YFVuaHeM"
      },
      "source": [
        "topic_title_tag0 = topic_title_tags[0]"
      ],
      "execution_count": null,
      "outputs": []
    },
    {
      "cell_type": "code",
      "metadata": {
        "colab": {
          "base_uri": "https://localhost:8080/"
        },
        "id": "KkzZ9TL4am_x",
        "outputId": "849320c4-94f2-409c-918e-533b4ffbc773"
      },
      "source": [
        "topic_title_tag0.parent"
      ],
      "execution_count": null,
      "outputs": [
        {
          "output_type": "execute_result",
          "data": {
            "text/plain": [
              "<div class=\"flex-auto\">\n",
              "<p class=\"f3 lh-condensed mb-0 mt-1 Link--primary\">3D</p>\n",
              "<p class=\"f5 color-text-secondary mb-0 mt-1\">\n",
              "              3D modeling is the process of virtually developing the surface and structure of a 3D object.\n",
              "            </p>\n",
              "</div>"
            ]
          },
          "metadata": {},
          "execution_count": 123
        }
      ]
    },
    {
      "cell_type": "code",
      "metadata": {
        "id": "6NTkZnsgaqsK"
      },
      "source": [
        "topic_link_tags = doc.find_all('a',{'class' : 'd-flex no-underline' })"
      ],
      "execution_count": null,
      "outputs": []
    },
    {
      "cell_type": "code",
      "metadata": {
        "colab": {
          "base_uri": "https://localhost:8080/"
        },
        "id": "u0iFnmhyeG-R",
        "outputId": "a36c3481-f3bc-4a21-e450-fecaba478dab"
      },
      "source": [
        "len(topic_link_tags)"
      ],
      "execution_count": null,
      "outputs": [
        {
          "output_type": "execute_result",
          "data": {
            "text/plain": [
              "30"
            ]
          },
          "metadata": {},
          "execution_count": 125
        }
      ]
    },
    {
      "cell_type": "code",
      "metadata": {
        "colab": {
          "base_uri": "https://localhost:8080/",
          "height": 35
        },
        "id": "DYHkov4hfbTe",
        "outputId": "5adf97af-7b95-42b3-d6de-97b9bf06c245"
      },
      "source": [
        "topic_link_tags[0]['href']"
      ],
      "execution_count": null,
      "outputs": [
        {
          "output_type": "execute_result",
          "data": {
            "application/vnd.google.colaboratory.intrinsic+json": {
              "type": "string"
            },
            "text/plain": [
              "'/topics/3d'"
            ]
          },
          "metadata": {},
          "execution_count": 126
        }
      ]
    },
    {
      "cell_type": "code",
      "metadata": {
        "id": "BnG22DXqfnH2"
      },
      "source": [
        "topic0_url = \"https://github.com\" + topic_link_tags[0]['href']"
      ],
      "execution_count": null,
      "outputs": []
    },
    {
      "cell_type": "code",
      "metadata": {
        "colab": {
          "base_uri": "https://localhost:8080/"
        },
        "id": "grqRQMTOgIy3",
        "outputId": "3fc144d8-e317-4689-90f1-eab191625c10"
      },
      "source": [
        "print(topic0_url)"
      ],
      "execution_count": null,
      "outputs": [
        {
          "output_type": "stream",
          "text": [
            "https://github.com/topics/3d\n"
          ],
          "name": "stdout"
        }
      ]
    },
    {
      "cell_type": "code",
      "metadata": {
        "colab": {
          "base_uri": "https://localhost:8080/"
        },
        "id": "qQ6AoD71gNeU",
        "outputId": "84ff7116-e0de-403b-87b9-97f5a75f121f"
      },
      "source": [
        "topic_titles = []\n",
        "for tag in topic_title_tags:\n",
        "  topic_titles.append(tag.text)\n",
        "\n",
        "print(topic_titles)"
      ],
      "execution_count": null,
      "outputs": [
        {
          "output_type": "stream",
          "text": [
            "['3D', 'Ajax', 'Algorithm', 'Amp', 'Android', 'Angular', 'Ansible', 'API', 'Arduino', 'ASP.NET', 'Atom', 'Awesome Lists', 'Amazon Web Services', 'Azure', 'Babel', 'Bash', 'Bitcoin', 'Bootstrap', 'Bot', 'C', 'Chrome', 'Chrome extension', 'Command line interface', 'Clojure', 'Code quality', 'Code review', 'Compiler', 'Continuous integration', 'COVID-19', 'C++']\n"
          ],
          "name": "stdout"
        }
      ]
    },
    {
      "cell_type": "code",
      "metadata": {
        "colab": {
          "base_uri": "https://localhost:8080/"
        },
        "id": "T8NiRHRIhyQV",
        "outputId": "117a4b84-6425-4f12-e33a-c7f3e0f66e42"
      },
      "source": [
        "topic_descs = []\n",
        "for tag in topic_desc_tag:\n",
        "  topic_descs.append(tag.text.strip())\n",
        "\n",
        "topic_descs[:5]"
      ],
      "execution_count": null,
      "outputs": [
        {
          "output_type": "execute_result",
          "data": {
            "text/plain": [
              "['3D modeling is the process of virtually developing the surface and structure of a 3D object.',\n",
              " 'Ajax is a technique for creating interactive web applications.',\n",
              " 'Algorithms are self-contained sequences that carry out a variety of tasks.',\n",
              " 'Amp is a non-blocking concurrency framework for PHP.',\n",
              " 'Android is an operating system built by Google designed for mobile devices.']"
            ]
          },
          "metadata": {},
          "execution_count": 130
        }
      ]
    },
    {
      "cell_type": "code",
      "metadata": {
        "colab": {
          "base_uri": "https://localhost:8080/"
        },
        "id": "r_YSYtxiiYs3",
        "outputId": "99f75da9-b0d8-4f15-ed5e-ade7cd58836c"
      },
      "source": [
        "topic_urls = []\n",
        "base_url = 'https://github.com'\n",
        "\n",
        "for tag in topic_link_tags:\n",
        "  topic_urls.append(base_url + tag['href'])\n",
        "topic_urls[:5]"
      ],
      "execution_count": null,
      "outputs": [
        {
          "output_type": "execute_result",
          "data": {
            "text/plain": [
              "['https://github.com/topics/3d',\n",
              " 'https://github.com/topics/ajax',\n",
              " 'https://github.com/topics/algorithm',\n",
              " 'https://github.com/topics/amphp',\n",
              " 'https://github.com/topics/android']"
            ]
          },
          "metadata": {},
          "execution_count": 131
        }
      ]
    },
    {
      "cell_type": "code",
      "metadata": {
        "id": "wz7NGXdUmks1"
      },
      "source": [
        "import pandas as pd"
      ],
      "execution_count": null,
      "outputs": []
    },
    {
      "cell_type": "code",
      "metadata": {
        "id": "iz4rejZLm4pq"
      },
      "source": [
        "topics_dict ={\n",
        "    'Title' : topic_titles,\n",
        "    'Description' : topic_descs,\n",
        "    'url' : topic_urls\n",
        "}"
      ],
      "execution_count": null,
      "outputs": []
    },
    {
      "cell_type": "code",
      "metadata": {
        "id": "Qca_TPUUqtCD"
      },
      "source": [
        "topics_df = pd.DataFrame(topics_dict)"
      ],
      "execution_count": null,
      "outputs": []
    },
    {
      "cell_type": "code",
      "metadata": {
        "colab": {
          "base_uri": "https://localhost:8080/",
          "height": 206
        },
        "id": "RDkVIWLyq8Gz",
        "outputId": "870ccb5b-9f75-44b7-ced4-ddbf61c80406"
      },
      "source": [
        "topics_df[:5]"
      ],
      "execution_count": null,
      "outputs": [
        {
          "output_type": "execute_result",
          "data": {
            "text/html": [
              "<div>\n",
              "<style scoped>\n",
              "    .dataframe tbody tr th:only-of-type {\n",
              "        vertical-align: middle;\n",
              "    }\n",
              "\n",
              "    .dataframe tbody tr th {\n",
              "        vertical-align: top;\n",
              "    }\n",
              "\n",
              "    .dataframe thead th {\n",
              "        text-align: right;\n",
              "    }\n",
              "</style>\n",
              "<table border=\"1\" class=\"dataframe\">\n",
              "  <thead>\n",
              "    <tr style=\"text-align: right;\">\n",
              "      <th></th>\n",
              "      <th>Title</th>\n",
              "      <th>Description</th>\n",
              "      <th>url</th>\n",
              "    </tr>\n",
              "  </thead>\n",
              "  <tbody>\n",
              "    <tr>\n",
              "      <th>0</th>\n",
              "      <td>3D</td>\n",
              "      <td>3D modeling is the process of virtually develo...</td>\n",
              "      <td>https://github.com/topics/3d</td>\n",
              "    </tr>\n",
              "    <tr>\n",
              "      <th>1</th>\n",
              "      <td>Ajax</td>\n",
              "      <td>Ajax is a technique for creating interactive w...</td>\n",
              "      <td>https://github.com/topics/ajax</td>\n",
              "    </tr>\n",
              "    <tr>\n",
              "      <th>2</th>\n",
              "      <td>Algorithm</td>\n",
              "      <td>Algorithms are self-contained sequences that c...</td>\n",
              "      <td>https://github.com/topics/algorithm</td>\n",
              "    </tr>\n",
              "    <tr>\n",
              "      <th>3</th>\n",
              "      <td>Amp</td>\n",
              "      <td>Amp is a non-blocking concurrency framework fo...</td>\n",
              "      <td>https://github.com/topics/amphp</td>\n",
              "    </tr>\n",
              "    <tr>\n",
              "      <th>4</th>\n",
              "      <td>Android</td>\n",
              "      <td>Android is an operating system built by Google...</td>\n",
              "      <td>https://github.com/topics/android</td>\n",
              "    </tr>\n",
              "  </tbody>\n",
              "</table>\n",
              "</div>"
            ],
            "text/plain": [
              "       Title  ...                                  url\n",
              "0         3D  ...         https://github.com/topics/3d\n",
              "1       Ajax  ...       https://github.com/topics/ajax\n",
              "2  Algorithm  ...  https://github.com/topics/algorithm\n",
              "3        Amp  ...      https://github.com/topics/amphp\n",
              "4    Android  ...    https://github.com/topics/android\n",
              "\n",
              "[5 rows x 3 columns]"
            ]
          },
          "metadata": {},
          "execution_count": 135
        }
      ]
    },
    {
      "cell_type": "code",
      "metadata": {
        "id": "RJfJJJKRq_jR"
      },
      "source": [
        "topics_df.to_csv('topics.csv',index=None)"
      ],
      "execution_count": null,
      "outputs": []
    },
    {
      "cell_type": "markdown",
      "metadata": {
        "id": "oqirgIsusE6L"
      },
      "source": [
        "Getting Information from the topic page\n"
      ]
    },
    {
      "cell_type": "code",
      "metadata": {
        "id": "T2G2-j-vr1iR"
      },
      "source": [
        "topic_page_url = topic_urls[0]"
      ],
      "execution_count": null,
      "outputs": []
    },
    {
      "cell_type": "code",
      "metadata": {
        "colab": {
          "base_uri": "https://localhost:8080/",
          "height": 35
        },
        "id": "S19s8eZPsfdZ",
        "outputId": "7462ff24-8c56-4e4a-ad80-23e5e3eb7f24"
      },
      "source": [
        "topic_page_url"
      ],
      "execution_count": null,
      "outputs": [
        {
          "output_type": "execute_result",
          "data": {
            "application/vnd.google.colaboratory.intrinsic+json": {
              "type": "string"
            },
            "text/plain": [
              "'https://github.com/topics/3d'"
            ]
          },
          "metadata": {},
          "execution_count": 138
        }
      ]
    },
    {
      "cell_type": "code",
      "metadata": {
        "id": "CgcpRK9HsiRg"
      },
      "source": [
        "response = requests.get(topic_page_url)"
      ],
      "execution_count": null,
      "outputs": []
    },
    {
      "cell_type": "code",
      "metadata": {
        "colab": {
          "base_uri": "https://localhost:8080/"
        },
        "id": "1RuiGF_wsrgf",
        "outputId": "5b339111-bbdd-4150-c659-1aaecf532866"
      },
      "source": [
        "response.status_code"
      ],
      "execution_count": null,
      "outputs": [
        {
          "output_type": "execute_result",
          "data": {
            "text/plain": [
              "200"
            ]
          },
          "metadata": {},
          "execution_count": 140
        }
      ]
    },
    {
      "cell_type": "code",
      "metadata": {
        "colab": {
          "base_uri": "https://localhost:8080/"
        },
        "id": "mFuGYlzKsyYg",
        "outputId": "d7210a00-0fff-4390-902d-0f265c40e368"
      },
      "source": [
        "len(response.text)"
      ],
      "execution_count": null,
      "outputs": [
        {
          "output_type": "execute_result",
          "data": {
            "text/plain": [
              "619551"
            ]
          },
          "metadata": {},
          "execution_count": 141
        }
      ]
    },
    {
      "cell_type": "code",
      "metadata": {
        "id": "f7NevSQSs0tA"
      },
      "source": [
        "topic_doc = BeautifulSoup(response.text,'html.parser')"
      ],
      "execution_count": null,
      "outputs": []
    },
    {
      "cell_type": "code",
      "metadata": {
        "id": "ZzqlO1KPtEjL"
      },
      "source": [
        "h1_selection_class = 'f3 color-text-secondary text-normal lh-condensed'\n",
        "repo_tags = topic_doc.find_all('h3',{'class' : h1_selection_class}) \n",
        "#h1_selection_class = 'data-hydro-click'\n",
        "#repo_tags = topic_doc.find_all('a', {'class': h1_selection_class} )\n",
        "          "
      ],
      "execution_count": null,
      "outputs": []
    },
    {
      "cell_type": "code",
      "metadata": {
        "colab": {
          "base_uri": "https://localhost:8080/"
        },
        "id": "6wShX54KJoXz",
        "outputId": "9b528182-64bd-4012-b768-e6722d00f628"
      },
      "source": [
        "len(repo_tags)"
      ],
      "execution_count": null,
      "outputs": [
        {
          "output_type": "execute_result",
          "data": {
            "text/plain": [
              "30"
            ]
          },
          "metadata": {},
          "execution_count": 144
        }
      ]
    },
    {
      "cell_type": "code",
      "metadata": {
        "id": "HVjf5agoKEp4"
      },
      "source": [
        "a_tags = repo_tags[0].find_all('a')"
      ],
      "execution_count": null,
      "outputs": []
    },
    {
      "cell_type": "code",
      "metadata": {
        "colab": {
          "base_uri": "https://localhost:8080/",
          "height": 35
        },
        "id": "pj-c-9ieKT6b",
        "outputId": "2f812234-d2cd-4113-d042-bef70fda1908"
      },
      "source": [
        "a_tags[0].text.strip()"
      ],
      "execution_count": null,
      "outputs": [
        {
          "output_type": "execute_result",
          "data": {
            "application/vnd.google.colaboratory.intrinsic+json": {
              "type": "string"
            },
            "text/plain": [
              "'mrdoob'"
            ]
          },
          "metadata": {},
          "execution_count": 146
        }
      ]
    },
    {
      "cell_type": "code",
      "metadata": {
        "colab": {
          "base_uri": "https://localhost:8080/",
          "height": 35
        },
        "id": "mZB_XnLaP4W7",
        "outputId": "da956a9f-a233-45bb-ac64-3f89fd648244"
      },
      "source": [
        "a_tags[1].text.strip()"
      ],
      "execution_count": null,
      "outputs": [
        {
          "output_type": "execute_result",
          "data": {
            "application/vnd.google.colaboratory.intrinsic+json": {
              "type": "string"
            },
            "text/plain": [
              "'three.js'"
            ]
          },
          "metadata": {},
          "execution_count": 147
        }
      ]
    },
    {
      "cell_type": "code",
      "metadata": {
        "colab": {
          "base_uri": "https://localhost:8080/",
          "height": 35
        },
        "id": "jvrlUsgnQh3t",
        "outputId": "0d465ad4-6321-42b4-c7cb-50eb9e910191"
      },
      "source": [
        "a_tags[1]['href']"
      ],
      "execution_count": null,
      "outputs": [
        {
          "output_type": "execute_result",
          "data": {
            "application/vnd.google.colaboratory.intrinsic+json": {
              "type": "string"
            },
            "text/plain": [
              "'/mrdoob/three.js'"
            ]
          },
          "metadata": {},
          "execution_count": 148
        }
      ]
    },
    {
      "cell_type": "code",
      "metadata": {
        "id": "4Xyg6MMnQtHr"
      },
      "source": [
        "base_url = 'https://github.com'"
      ],
      "execution_count": null,
      "outputs": []
    },
    {
      "cell_type": "code",
      "metadata": {
        "colab": {
          "base_uri": "https://localhost:8080/"
        },
        "id": "hzsYbqepRKDx",
        "outputId": "95b44b87-2d57-423d-91f0-7c7deef9ff44"
      },
      "source": [
        "repo_url = base_url + a_tags[1]['href']\n",
        "print(repo_url)"
      ],
      "execution_count": null,
      "outputs": [
        {
          "output_type": "stream",
          "text": [
            "https://github.com/mrdoob/three.js\n"
          ],
          "name": "stdout"
        }
      ]
    },
    {
      "cell_type": "code",
      "metadata": {
        "id": "MfvS6qryR6FU"
      },
      "source": [
        "star_tags = topic_doc.find_all('a',{'class': 'social-count float-none'})"
      ],
      "execution_count": null,
      "outputs": []
    },
    {
      "cell_type": "code",
      "metadata": {
        "colab": {
          "base_uri": "https://localhost:8080/"
        },
        "id": "DhqEGKhAR5NE",
        "outputId": "06942361-c93e-4280-9001-a284217c1385"
      },
      "source": [
        "len(star_tags)"
      ],
      "execution_count": null,
      "outputs": [
        {
          "output_type": "execute_result",
          "data": {
            "text/plain": [
              "30"
            ]
          },
          "metadata": {},
          "execution_count": 152
        }
      ]
    },
    {
      "cell_type": "code",
      "metadata": {
        "colab": {
          "base_uri": "https://localhost:8080/",
          "height": 35
        },
        "id": "gX-Uq64XRRPD",
        "outputId": "da9a7aaa-bd6c-4464-d986-bb916318425c"
      },
      "source": [
        "star_tags[0].text.strip()"
      ],
      "execution_count": null,
      "outputs": [
        {
          "output_type": "execute_result",
          "data": {
            "application/vnd.google.colaboratory.intrinsic+json": {
              "type": "string"
            },
            "text/plain": [
              "'73.7k'"
            ]
          },
          "metadata": {},
          "execution_count": 153
        }
      ]
    },
    {
      "cell_type": "code",
      "metadata": {
        "id": "kaGT_CAuSpig"
      },
      "source": [
        "def parse_star_count(stars_str):\n",
        "  stars_str=stars_str.strip()\n",
        "  if(stars_str[-1]=='k'):\n",
        "    return int(float(stars_str[:-1])*1000)\n",
        "  return int(stars_str)\n"
      ],
      "execution_count": null,
      "outputs": []
    },
    {
      "cell_type": "code",
      "metadata": {
        "colab": {
          "base_uri": "https://localhost:8080/"
        },
        "id": "1pn5fwGFTbv3",
        "outputId": "d6573e7b-3ecd-407c-b569-593646ad14b7"
      },
      "source": [
        "parse_star_count(star_tags[0].text.strip())"
      ],
      "execution_count": null,
      "outputs": [
        {
          "output_type": "execute_result",
          "data": {
            "text/plain": [
              "73700"
            ]
          },
          "metadata": {},
          "execution_count": 155
        }
      ]
    },
    {
      "cell_type": "code",
      "metadata": {
        "id": "LGq48q5jUI2r"
      },
      "source": [
        "def get_repo_info(h3_tag,star_tag):\n",
        "  a_tags = h3_tag.find_all('a')\n",
        "  username = a_tags[0].text.strip()\n",
        "  repo_name = a_tags[1].text.strip()\n",
        "  repo_url = base_url +  a_tags[1]['href']\n",
        "  stars =  parse_star_count(star_tag.text.strip())\n",
        "  return username, repo_name,stars,repo_url"
      ],
      "execution_count": null,
      "outputs": []
    },
    {
      "cell_type": "code",
      "metadata": {
        "colab": {
          "base_uri": "https://localhost:8080/"
        },
        "id": "ixkrmk1yeVpI",
        "outputId": "035e9849-ee52-4bef-8222-2290a6d8f73a"
      },
      "source": [
        "get_repo_info(repo_tags[0],star_tags[0])"
      ],
      "execution_count": null,
      "outputs": [
        {
          "output_type": "execute_result",
          "data": {
            "text/plain": [
              "('mrdoob', 'three.js', 73700, 'https://github.com/mrdoob/three.js')"
            ]
          },
          "metadata": {},
          "execution_count": 157
        }
      ]
    },
    {
      "cell_type": "code",
      "metadata": {
        "id": "d0D9bwWHec0D"
      },
      "source": [
        "topic_repos_dict = {\n",
        "    'username' :[],\n",
        "    'repo_name' :[],\n",
        "    'stars' :[],\n",
        "    'repo_url': []\n",
        "}\n",
        "\n",
        "for i in range(len(repo_tags)) :\n",
        "  repo_info = get_repo_info(repo_tags[i],star_tags[i])\n",
        "  topic_repos_dict['username'].append(repo_info[0])\n",
        "  topic_repos_dict['repo_name'].append(repo_info[1])\n",
        "  topic_repos_dict['stars'].append(repo_info[2])\n",
        "  topic_repos_dict['repo_url'].append(repo_info[3])"
      ],
      "execution_count": null,
      "outputs": []
    },
    {
      "cell_type": "code",
      "metadata": {
        "id": "juaIT71uqB76"
      },
      "source": [
        "topic_repos_df = pd.DataFrame(topic_repos_dict)"
      ],
      "execution_count": null,
      "outputs": []
    },
    {
      "cell_type": "code",
      "metadata": {
        "colab": {
          "base_uri": "https://localhost:8080/",
          "height": 989
        },
        "id": "2z_h7Cj3sktR",
        "outputId": "98390ebd-945e-46c5-fd6b-ffe94b106b54"
      },
      "source": [
        "topic_repos_df \n"
      ],
      "execution_count": null,
      "outputs": [
        {
          "output_type": "execute_result",
          "data": {
            "text/html": [
              "<div>\n",
              "<style scoped>\n",
              "    .dataframe tbody tr th:only-of-type {\n",
              "        vertical-align: middle;\n",
              "    }\n",
              "\n",
              "    .dataframe tbody tr th {\n",
              "        vertical-align: top;\n",
              "    }\n",
              "\n",
              "    .dataframe thead th {\n",
              "        text-align: right;\n",
              "    }\n",
              "</style>\n",
              "<table border=\"1\" class=\"dataframe\">\n",
              "  <thead>\n",
              "    <tr style=\"text-align: right;\">\n",
              "      <th></th>\n",
              "      <th>username</th>\n",
              "      <th>repo_name</th>\n",
              "      <th>stars</th>\n",
              "      <th>repo_url</th>\n",
              "    </tr>\n",
              "  </thead>\n",
              "  <tbody>\n",
              "    <tr>\n",
              "      <th>0</th>\n",
              "      <td>mrdoob</td>\n",
              "      <td>three.js</td>\n",
              "      <td>73700</td>\n",
              "      <td>https://github.com/mrdoob/three.js</td>\n",
              "    </tr>\n",
              "    <tr>\n",
              "      <th>1</th>\n",
              "      <td>libgdx</td>\n",
              "      <td>libgdx</td>\n",
              "      <td>18800</td>\n",
              "      <td>https://github.com/libgdx/libgdx</td>\n",
              "    </tr>\n",
              "    <tr>\n",
              "      <th>2</th>\n",
              "      <td>pmndrs</td>\n",
              "      <td>react-three-fiber</td>\n",
              "      <td>14800</td>\n",
              "      <td>https://github.com/pmndrs/react-three-fiber</td>\n",
              "    </tr>\n",
              "    <tr>\n",
              "      <th>3</th>\n",
              "      <td>BabylonJS</td>\n",
              "      <td>Babylon.js</td>\n",
              "      <td>14700</td>\n",
              "      <td>https://github.com/BabylonJS/Babylon.js</td>\n",
              "    </tr>\n",
              "    <tr>\n",
              "      <th>4</th>\n",
              "      <td>aframevr</td>\n",
              "      <td>aframe</td>\n",
              "      <td>13000</td>\n",
              "      <td>https://github.com/aframevr/aframe</td>\n",
              "    </tr>\n",
              "    <tr>\n",
              "      <th>5</th>\n",
              "      <td>ssloy</td>\n",
              "      <td>tinyrenderer</td>\n",
              "      <td>11100</td>\n",
              "      <td>https://github.com/ssloy/tinyrenderer</td>\n",
              "    </tr>\n",
              "    <tr>\n",
              "      <th>6</th>\n",
              "      <td>lettier</td>\n",
              "      <td>3d-game-shaders-for-beginners</td>\n",
              "      <td>11000</td>\n",
              "      <td>https://github.com/lettier/3d-game-shaders-for...</td>\n",
              "    </tr>\n",
              "    <tr>\n",
              "      <th>7</th>\n",
              "      <td>FreeCAD</td>\n",
              "      <td>FreeCAD</td>\n",
              "      <td>9800</td>\n",
              "      <td>https://github.com/FreeCAD/FreeCAD</td>\n",
              "    </tr>\n",
              "    <tr>\n",
              "      <th>8</th>\n",
              "      <td>metafizzy</td>\n",
              "      <td>zdog</td>\n",
              "      <td>8600</td>\n",
              "      <td>https://github.com/metafizzy/zdog</td>\n",
              "    </tr>\n",
              "    <tr>\n",
              "      <th>9</th>\n",
              "      <td>CesiumGS</td>\n",
              "      <td>cesium</td>\n",
              "      <td>7400</td>\n",
              "      <td>https://github.com/CesiumGS/cesium</td>\n",
              "    </tr>\n",
              "    <tr>\n",
              "      <th>10</th>\n",
              "      <td>timzhang642</td>\n",
              "      <td>3D-Machine-Learning</td>\n",
              "      <td>7000</td>\n",
              "      <td>https://github.com/timzhang642/3D-Machine-Lear...</td>\n",
              "    </tr>\n",
              "    <tr>\n",
              "      <th>11</th>\n",
              "      <td>a1studmuffin</td>\n",
              "      <td>SpaceshipGenerator</td>\n",
              "      <td>6900</td>\n",
              "      <td>https://github.com/a1studmuffin/SpaceshipGener...</td>\n",
              "    </tr>\n",
              "    <tr>\n",
              "      <th>12</th>\n",
              "      <td>isl-org</td>\n",
              "      <td>Open3D</td>\n",
              "      <td>5200</td>\n",
              "      <td>https://github.com/isl-org/Open3D</td>\n",
              "    </tr>\n",
              "    <tr>\n",
              "      <th>13</th>\n",
              "      <td>spritejs</td>\n",
              "      <td>spritejs</td>\n",
              "      <td>4600</td>\n",
              "      <td>https://github.com/spritejs/spritejs</td>\n",
              "    </tr>\n",
              "    <tr>\n",
              "      <th>14</th>\n",
              "      <td>tensorspace-team</td>\n",
              "      <td>tensorspace</td>\n",
              "      <td>4500</td>\n",
              "      <td>https://github.com/tensorspace-team/tensorspace</td>\n",
              "    </tr>\n",
              "    <tr>\n",
              "      <th>15</th>\n",
              "      <td>jagenjo</td>\n",
              "      <td>webglstudio.js</td>\n",
              "      <td>4400</td>\n",
              "      <td>https://github.com/jagenjo/webglstudio.js</td>\n",
              "    </tr>\n",
              "    <tr>\n",
              "      <th>16</th>\n",
              "      <td>YadiraF</td>\n",
              "      <td>PRNet</td>\n",
              "      <td>4400</td>\n",
              "      <td>https://github.com/YadiraF/PRNet</td>\n",
              "    </tr>\n",
              "    <tr>\n",
              "      <th>17</th>\n",
              "      <td>AaronJackson</td>\n",
              "      <td>vrn</td>\n",
              "      <td>4400</td>\n",
              "      <td>https://github.com/AaronJackson/vrn</td>\n",
              "    </tr>\n",
              "    <tr>\n",
              "      <th>18</th>\n",
              "      <td>domlysz</td>\n",
              "      <td>BlenderGIS</td>\n",
              "      <td>4200</td>\n",
              "      <td>https://github.com/domlysz/BlenderGIS</td>\n",
              "    </tr>\n",
              "    <tr>\n",
              "      <th>19</th>\n",
              "      <td>openscad</td>\n",
              "      <td>openscad</td>\n",
              "      <td>4200</td>\n",
              "      <td>https://github.com/openscad/openscad</td>\n",
              "    </tr>\n",
              "    <tr>\n",
              "      <th>20</th>\n",
              "      <td>ssloy</td>\n",
              "      <td>tinyraytracer</td>\n",
              "      <td>3800</td>\n",
              "      <td>https://github.com/ssloy/tinyraytracer</td>\n",
              "    </tr>\n",
              "    <tr>\n",
              "      <th>21</th>\n",
              "      <td>mosra</td>\n",
              "      <td>magnum</td>\n",
              "      <td>3600</td>\n",
              "      <td>https://github.com/mosra/magnum</td>\n",
              "    </tr>\n",
              "    <tr>\n",
              "      <th>22</th>\n",
              "      <td>google</td>\n",
              "      <td>model-viewer</td>\n",
              "      <td>3300</td>\n",
              "      <td>https://github.com/google/model-viewer</td>\n",
              "    </tr>\n",
              "    <tr>\n",
              "      <th>23</th>\n",
              "      <td>blender</td>\n",
              "      <td>blender</td>\n",
              "      <td>3200</td>\n",
              "      <td>https://github.com/blender/blender</td>\n",
              "    </tr>\n",
              "    <tr>\n",
              "      <th>24</th>\n",
              "      <td>gfxfundamentals</td>\n",
              "      <td>webgl-fundamentals</td>\n",
              "      <td>3100</td>\n",
              "      <td>https://github.com/gfxfundamentals/webgl-funda...</td>\n",
              "    </tr>\n",
              "    <tr>\n",
              "      <th>25</th>\n",
              "      <td>cleardusk</td>\n",
              "      <td>3DDFA</td>\n",
              "      <td>3100</td>\n",
              "      <td>https://github.com/cleardusk/3DDFA</td>\n",
              "    </tr>\n",
              "    <tr>\n",
              "      <th>26</th>\n",
              "      <td>jasonlong</td>\n",
              "      <td>isometric-contributions</td>\n",
              "      <td>3000</td>\n",
              "      <td>https://github.com/jasonlong/isometric-contrib...</td>\n",
              "    </tr>\n",
              "    <tr>\n",
              "      <th>27</th>\n",
              "      <td>rg3dengine</td>\n",
              "      <td>rg3d</td>\n",
              "      <td>2700</td>\n",
              "      <td>https://github.com/rg3dengine/rg3d</td>\n",
              "    </tr>\n",
              "    <tr>\n",
              "      <th>28</th>\n",
              "      <td>antvis</td>\n",
              "      <td>L7</td>\n",
              "      <td>2400</td>\n",
              "      <td>https://github.com/antvis/L7</td>\n",
              "    </tr>\n",
              "    <tr>\n",
              "      <th>29</th>\n",
              "      <td>cnr-isti-vclab</td>\n",
              "      <td>meshlab</td>\n",
              "      <td>2400</td>\n",
              "      <td>https://github.com/cnr-isti-vclab/meshlab</td>\n",
              "    </tr>\n",
              "  </tbody>\n",
              "</table>\n",
              "</div>"
            ],
            "text/plain": [
              "            username  ...                                           repo_url\n",
              "0             mrdoob  ...                 https://github.com/mrdoob/three.js\n",
              "1             libgdx  ...                   https://github.com/libgdx/libgdx\n",
              "2             pmndrs  ...        https://github.com/pmndrs/react-three-fiber\n",
              "3          BabylonJS  ...            https://github.com/BabylonJS/Babylon.js\n",
              "4           aframevr  ...                 https://github.com/aframevr/aframe\n",
              "5              ssloy  ...              https://github.com/ssloy/tinyrenderer\n",
              "6            lettier  ...  https://github.com/lettier/3d-game-shaders-for...\n",
              "7            FreeCAD  ...                 https://github.com/FreeCAD/FreeCAD\n",
              "8          metafizzy  ...                  https://github.com/metafizzy/zdog\n",
              "9           CesiumGS  ...                 https://github.com/CesiumGS/cesium\n",
              "10       timzhang642  ...  https://github.com/timzhang642/3D-Machine-Lear...\n",
              "11      a1studmuffin  ...  https://github.com/a1studmuffin/SpaceshipGener...\n",
              "12           isl-org  ...                  https://github.com/isl-org/Open3D\n",
              "13          spritejs  ...               https://github.com/spritejs/spritejs\n",
              "14  tensorspace-team  ...    https://github.com/tensorspace-team/tensorspace\n",
              "15           jagenjo  ...          https://github.com/jagenjo/webglstudio.js\n",
              "16           YadiraF  ...                   https://github.com/YadiraF/PRNet\n",
              "17      AaronJackson  ...                https://github.com/AaronJackson/vrn\n",
              "18           domlysz  ...              https://github.com/domlysz/BlenderGIS\n",
              "19          openscad  ...               https://github.com/openscad/openscad\n",
              "20             ssloy  ...             https://github.com/ssloy/tinyraytracer\n",
              "21             mosra  ...                    https://github.com/mosra/magnum\n",
              "22            google  ...             https://github.com/google/model-viewer\n",
              "23           blender  ...                 https://github.com/blender/blender\n",
              "24   gfxfundamentals  ...  https://github.com/gfxfundamentals/webgl-funda...\n",
              "25         cleardusk  ...                 https://github.com/cleardusk/3DDFA\n",
              "26         jasonlong  ...  https://github.com/jasonlong/isometric-contrib...\n",
              "27        rg3dengine  ...                 https://github.com/rg3dengine/rg3d\n",
              "28            antvis  ...                       https://github.com/antvis/L7\n",
              "29    cnr-isti-vclab  ...          https://github.com/cnr-isti-vclab/meshlab\n",
              "\n",
              "[30 rows x 4 columns]"
            ]
          },
          "metadata": {},
          "execution_count": 160
        }
      ]
    },
    {
      "cell_type": "code",
      "metadata": {
        "id": "mUdw27Arsxoh"
      },
      "source": [
        "\n",
        "def get_topic_page(topic_url):\n",
        "  response = requests.get(topic_url)\n",
        "  #check successful response\n",
        "  if response.status_code !=200:\n",
        "    raise Exception('Failed to load page {}'.format(topic_url))\n",
        "  #parse using bsoup\n",
        "  topic_doc = BeautifulSoup(response.text,'html.parser')\n",
        "  return topic_doc\n",
        "\n",
        "\n",
        "def get_repo_info(h1_tag,star_tag):\n",
        "  a_tags = h1_tag.find_all('a')\n",
        "  username = a_tags[0].text.strip()\n",
        "  repo_name = a_tags[1].text.strip()\n",
        "  repo_url = base_url +  a_tags[1]['href']\n",
        "  stars =  parse_star_count(star_tag.text.strip())\n",
        "  return username, repo_name,stars,repo_url\n",
        "\n",
        "def  get_topic_repos(topic_doc):\n",
        "  \n",
        "  #get the tag containing repo info\n",
        "  h1_selection_class = 'f3 color-text-secondary text-normal lh-condensed'\n",
        "  repo_tags = topic_doc.find_all('h3',{'class' : h1_selection_class}) \n",
        "  #get star tags\n",
        "  star_tags = topic_doc.find_all('a',{'class': 'social-count float-none'})\n",
        "  #get repo info\n",
        "\n",
        "  topic_repos_dict = {\n",
        "    'username' :[],\n",
        "    'repo_name' :[],\n",
        "    'stars' :[],\n",
        "    'repo_url': []\n",
        "  }\n",
        "  for i in range(len(repo_tags)) :\n",
        "    repo_info = get_repo_info(repo_tags[i],star_tags[i])\n",
        "    topic_repos_dict['username'].append(repo_info[0])\n",
        "    topic_repos_dict['repo_name'].append(repo_info[1])\n",
        "    topic_repos_dict['stars'].append(repo_info[2])\n",
        "    topic_repos_dict['repo_url'].append(repo_info[3])\n",
        "\n",
        "  return pd.DataFrame(topic_repos_dict)"
      ],
      "execution_count": null,
      "outputs": []
    },
    {
      "cell_type": "code",
      "metadata": {
        "id": "GVXjAKcOzo2P"
      },
      "source": [
        "url4 = topic_urls[4]"
      ],
      "execution_count": null,
      "outputs": []
    },
    {
      "cell_type": "code",
      "metadata": {
        "id": "UaSkzn9B35Go"
      },
      "source": [
        "topic4_doc = get_topic_page(url4)"
      ],
      "execution_count": null,
      "outputs": []
    },
    {
      "cell_type": "code",
      "metadata": {
        "id": "o9I576lv4uRV"
      },
      "source": [
        "topic4_repos = get_topic_repos(topic4_doc)"
      ],
      "execution_count": null,
      "outputs": []
    },
    {
      "cell_type": "code",
      "metadata": {
        "colab": {
          "base_uri": "https://localhost:8080/",
          "height": 989
        },
        "id": "HoMiZ87l7Qm2",
        "outputId": "26c38da1-a4a5-42e0-bbc2-f07013f1c0b9"
      },
      "source": [
        "topic4_repos"
      ],
      "execution_count": null,
      "outputs": [
        {
          "output_type": "execute_result",
          "data": {
            "text/html": [
              "<div>\n",
              "<style scoped>\n",
              "    .dataframe tbody tr th:only-of-type {\n",
              "        vertical-align: middle;\n",
              "    }\n",
              "\n",
              "    .dataframe tbody tr th {\n",
              "        vertical-align: top;\n",
              "    }\n",
              "\n",
              "    .dataframe thead th {\n",
              "        text-align: right;\n",
              "    }\n",
              "</style>\n",
              "<table border=\"1\" class=\"dataframe\">\n",
              "  <thead>\n",
              "    <tr style=\"text-align: right;\">\n",
              "      <th></th>\n",
              "      <th>username</th>\n",
              "      <th>repo_name</th>\n",
              "      <th>stars</th>\n",
              "      <th>repo_url</th>\n",
              "    </tr>\n",
              "  </thead>\n",
              "  <tbody>\n",
              "    <tr>\n",
              "      <th>0</th>\n",
              "      <td>flutter</td>\n",
              "      <td>flutter</td>\n",
              "      <td>128000</td>\n",
              "      <td>https://github.com/flutter/flutter</td>\n",
              "    </tr>\n",
              "    <tr>\n",
              "      <th>1</th>\n",
              "      <td>justjavac</td>\n",
              "      <td>free-programming-books-zh_CN</td>\n",
              "      <td>82400</td>\n",
              "      <td>https://github.com/justjavac/free-programming-...</td>\n",
              "    </tr>\n",
              "    <tr>\n",
              "      <th>2</th>\n",
              "      <td>Genymobile</td>\n",
              "      <td>scrcpy</td>\n",
              "      <td>53500</td>\n",
              "      <td>https://github.com/Genymobile/scrcpy</td>\n",
              "    </tr>\n",
              "    <tr>\n",
              "      <th>3</th>\n",
              "      <td>Hack-with-Github</td>\n",
              "      <td>Awesome-Hacking</td>\n",
              "      <td>45600</td>\n",
              "      <td>https://github.com/Hack-with-Github/Awesome-Ha...</td>\n",
              "    </tr>\n",
              "    <tr>\n",
              "      <th>4</th>\n",
              "      <td>google</td>\n",
              "      <td>material-design-icons</td>\n",
              "      <td>43700</td>\n",
              "      <td>https://github.com/google/material-design-icons</td>\n",
              "    </tr>\n",
              "    <tr>\n",
              "      <th>5</th>\n",
              "      <td>wasabeef</td>\n",
              "      <td>awesome-android-ui</td>\n",
              "      <td>41200</td>\n",
              "      <td>https://github.com/wasabeef/awesome-android-ui</td>\n",
              "    </tr>\n",
              "    <tr>\n",
              "      <th>6</th>\n",
              "      <td>square</td>\n",
              "      <td>okhttp</td>\n",
              "      <td>40700</td>\n",
              "      <td>https://github.com/square/okhttp</td>\n",
              "    </tr>\n",
              "    <tr>\n",
              "      <th>7</th>\n",
              "      <td>android</td>\n",
              "      <td>architecture-samples</td>\n",
              "      <td>39300</td>\n",
              "      <td>https://github.com/android/architecture-samples</td>\n",
              "    </tr>\n",
              "    <tr>\n",
              "      <th>8</th>\n",
              "      <td>square</td>\n",
              "      <td>retrofit</td>\n",
              "      <td>38600</td>\n",
              "      <td>https://github.com/square/retrofit</td>\n",
              "    </tr>\n",
              "    <tr>\n",
              "      <th>9</th>\n",
              "      <td>Solido</td>\n",
              "      <td>awesome-flutter</td>\n",
              "      <td>37100</td>\n",
              "      <td>https://github.com/Solido/awesome-flutter</td>\n",
              "    </tr>\n",
              "    <tr>\n",
              "      <th>10</th>\n",
              "      <td>PhilJay</td>\n",
              "      <td>MPAndroidChart</td>\n",
              "      <td>33800</td>\n",
              "      <td>https://github.com/PhilJay/MPAndroidChart</td>\n",
              "    </tr>\n",
              "    <tr>\n",
              "      <th>11</th>\n",
              "      <td>fastlane</td>\n",
              "      <td>fastlane</td>\n",
              "      <td>32800</td>\n",
              "      <td>https://github.com/fastlane/fastlane</td>\n",
              "    </tr>\n",
              "    <tr>\n",
              "      <th>12</th>\n",
              "      <td>shadowsocks</td>\n",
              "      <td>shadowsocks-android</td>\n",
              "      <td>31800</td>\n",
              "      <td>https://github.com/shadowsocks/shadowsocks-and...</td>\n",
              "    </tr>\n",
              "    <tr>\n",
              "      <th>13</th>\n",
              "      <td>airbnb</td>\n",
              "      <td>lottie-android</td>\n",
              "      <td>31600</td>\n",
              "      <td>https://github.com/airbnb/lottie-android</td>\n",
              "    </tr>\n",
              "    <tr>\n",
              "      <th>14</th>\n",
              "      <td>bumptech</td>\n",
              "      <td>glide</td>\n",
              "      <td>31600</td>\n",
              "      <td>https://github.com/bumptech/glide</td>\n",
              "    </tr>\n",
              "    <tr>\n",
              "      <th>15</th>\n",
              "      <td>Trinea</td>\n",
              "      <td>android-open-project</td>\n",
              "      <td>30700</td>\n",
              "      <td>https://github.com/Trinea/android-open-project</td>\n",
              "    </tr>\n",
              "    <tr>\n",
              "      <th>16</th>\n",
              "      <td>Blankj</td>\n",
              "      <td>AndroidUtilCode</td>\n",
              "      <td>29700</td>\n",
              "      <td>https://github.com/Blankj/AndroidUtilCode</td>\n",
              "    </tr>\n",
              "    <tr>\n",
              "      <th>17</th>\n",
              "      <td>xitu</td>\n",
              "      <td>gold-miner</td>\n",
              "      <td>29400</td>\n",
              "      <td>https://github.com/xitu/gold-miner</td>\n",
              "    </tr>\n",
              "    <tr>\n",
              "      <th>18</th>\n",
              "      <td>bilibili</td>\n",
              "      <td>ijkplayer</td>\n",
              "      <td>29300</td>\n",
              "      <td>https://github.com/bilibili/ijkplayer</td>\n",
              "    </tr>\n",
              "    <tr>\n",
              "      <th>19</th>\n",
              "      <td>zxing</td>\n",
              "      <td>zxing</td>\n",
              "      <td>28300</td>\n",
              "      <td>https://github.com/zxing/zxing</td>\n",
              "    </tr>\n",
              "    <tr>\n",
              "      <th>20</th>\n",
              "      <td>codepath</td>\n",
              "      <td>android_guides</td>\n",
              "      <td>27500</td>\n",
              "      <td>https://github.com/codepath/android_guides</td>\n",
              "    </tr>\n",
              "    <tr>\n",
              "      <th>21</th>\n",
              "      <td>skylot</td>\n",
              "      <td>jadx</td>\n",
              "      <td>26900</td>\n",
              "      <td>https://github.com/skylot/jadx</td>\n",
              "    </tr>\n",
              "    <tr>\n",
              "      <th>22</th>\n",
              "      <td>square</td>\n",
              "      <td>leakcanary</td>\n",
              "      <td>26600</td>\n",
              "      <td>https://github.com/square/leakcanary</td>\n",
              "    </tr>\n",
              "    <tr>\n",
              "      <th>23</th>\n",
              "      <td>laurent22</td>\n",
              "      <td>joplin</td>\n",
              "      <td>24900</td>\n",
              "      <td>https://github.com/laurent22/joplin</td>\n",
              "    </tr>\n",
              "    <tr>\n",
              "      <th>24</th>\n",
              "      <td>alibaba</td>\n",
              "      <td>fastjson</td>\n",
              "      <td>23700</td>\n",
              "      <td>https://github.com/alibaba/fastjson</td>\n",
              "    </tr>\n",
              "    <tr>\n",
              "      <th>25</th>\n",
              "      <td>scwang90</td>\n",
              "      <td>SmartRefreshLayout</td>\n",
              "      <td>22900</td>\n",
              "      <td>https://github.com/scwang90/SmartRefreshLayout</td>\n",
              "    </tr>\n",
              "    <tr>\n",
              "      <th>26</th>\n",
              "      <td>CymChad</td>\n",
              "      <td>BaseRecyclerViewAdapterHelper</td>\n",
              "      <td>22200</td>\n",
              "      <td>https://github.com/CymChad/BaseRecyclerViewAda...</td>\n",
              "    </tr>\n",
              "    <tr>\n",
              "      <th>27</th>\n",
              "      <td>react-native-elements</td>\n",
              "      <td>react-native-elements</td>\n",
              "      <td>21200</td>\n",
              "      <td>https://github.com/react-native-elements/react...</td>\n",
              "    </tr>\n",
              "    <tr>\n",
              "      <th>28</th>\n",
              "      <td>google</td>\n",
              "      <td>iosched</td>\n",
              "      <td>20700</td>\n",
              "      <td>https://github.com/google/iosched</td>\n",
              "    </tr>\n",
              "    <tr>\n",
              "      <th>29</th>\n",
              "      <td>NativeScript</td>\n",
              "      <td>NativeScript</td>\n",
              "      <td>20400</td>\n",
              "      <td>https://github.com/NativeScript/NativeScript</td>\n",
              "    </tr>\n",
              "  </tbody>\n",
              "</table>\n",
              "</div>"
            ],
            "text/plain": [
              "                 username  ...                                           repo_url\n",
              "0                 flutter  ...                 https://github.com/flutter/flutter\n",
              "1               justjavac  ...  https://github.com/justjavac/free-programming-...\n",
              "2              Genymobile  ...               https://github.com/Genymobile/scrcpy\n",
              "3        Hack-with-Github  ...  https://github.com/Hack-with-Github/Awesome-Ha...\n",
              "4                  google  ...    https://github.com/google/material-design-icons\n",
              "5                wasabeef  ...     https://github.com/wasabeef/awesome-android-ui\n",
              "6                  square  ...                   https://github.com/square/okhttp\n",
              "7                 android  ...    https://github.com/android/architecture-samples\n",
              "8                  square  ...                 https://github.com/square/retrofit\n",
              "9                  Solido  ...          https://github.com/Solido/awesome-flutter\n",
              "10                PhilJay  ...          https://github.com/PhilJay/MPAndroidChart\n",
              "11               fastlane  ...               https://github.com/fastlane/fastlane\n",
              "12            shadowsocks  ...  https://github.com/shadowsocks/shadowsocks-and...\n",
              "13                 airbnb  ...           https://github.com/airbnb/lottie-android\n",
              "14               bumptech  ...                  https://github.com/bumptech/glide\n",
              "15                 Trinea  ...     https://github.com/Trinea/android-open-project\n",
              "16                 Blankj  ...          https://github.com/Blankj/AndroidUtilCode\n",
              "17                   xitu  ...                 https://github.com/xitu/gold-miner\n",
              "18               bilibili  ...              https://github.com/bilibili/ijkplayer\n",
              "19                  zxing  ...                     https://github.com/zxing/zxing\n",
              "20               codepath  ...         https://github.com/codepath/android_guides\n",
              "21                 skylot  ...                     https://github.com/skylot/jadx\n",
              "22                 square  ...               https://github.com/square/leakcanary\n",
              "23              laurent22  ...                https://github.com/laurent22/joplin\n",
              "24                alibaba  ...                https://github.com/alibaba/fastjson\n",
              "25               scwang90  ...     https://github.com/scwang90/SmartRefreshLayout\n",
              "26                CymChad  ...  https://github.com/CymChad/BaseRecyclerViewAda...\n",
              "27  react-native-elements  ...  https://github.com/react-native-elements/react...\n",
              "28                 google  ...                  https://github.com/google/iosched\n",
              "29           NativeScript  ...       https://github.com/NativeScript/NativeScript\n",
              "\n",
              "[30 rows x 4 columns]"
            ]
          },
          "metadata": {},
          "execution_count": 165
        }
      ]
    },
    {
      "cell_type": "code",
      "metadata": {
        "id": "MM1sq8WYR3b-"
      },
      "source": [
        "import os\n",
        "\n",
        "def scrape_topic(topic_url,path):\n",
        "  \n",
        "  if os.path.exists(path):\n",
        "    print(\"The file {} already exists.Skipping..\".format(path))\n",
        "    return\n",
        "  topic_df = get_topic_repos(get_topic_page(topic_url))\n",
        "  topic_df.to_csv(path ,index=None)\n"
      ],
      "execution_count": 172,
      "outputs": []
    },
    {
      "cell_type": "code",
      "metadata": {
        "id": "XMnvduez7vBf"
      },
      "source": [
        "def get_topic_titles(doc):\n",
        "  selection_class = 'f3 lh-condensed mb-0 mt-1 Link--primary' \n",
        "  topic_title_tags = doc.find_all('p',{'class' : selection_class})\n",
        "  topic_titles = []\n",
        "  for tag in topic_title_tags:\n",
        "    topic_titles.append(tag.text.strip())\n",
        "  return topic_titles\n",
        "\n",
        "def get_topic_desc(doc):\n",
        "  desc_selector = 'f5 color-text-secondary mb-0 mt-1'\n",
        "  topic_desc_tags = doc.find_all('p',{'class' :desc_selector })\n",
        "  topic_descs = []\n",
        "  for tag in topic_desc_tags:\n",
        "    topic_descs.append(tag.text.strip())\n",
        "  return topic_descs\n",
        "\n",
        "def get_topic_urls(doc):\n",
        "  topic_link_tags = doc.find_all('a',{'class' : 'd-flex no-underline'})\n",
        "  topic_urls = []\n",
        "  base_url = 'https://github.com'\n",
        "  for tag in topic_link_tags:\n",
        "    topic_urls.append(tag.text.strip())\n",
        "  return topic_urls\n",
        "\n",
        "\n",
        "def scrape_topics():\n",
        "  topics_url = 'https://github.com/topics'\n",
        "  response = requests.get(topics_url)\n",
        "  if response.status_code !=200:\n",
        "     raise Exception('Failed to load page {}'.format(topic_url))\n",
        "  topic_dict = {\n",
        "      'title': get_topic_titles(doc),\n",
        "      'description' : get_topic_desc(doc),\n",
        "      'url' : get_topic_urls(doc)\n",
        "      }\n",
        "\n",
        "  return pd.DataFrame(topics_dict)\n",
        "\n",
        "  \n",
        "\n"
      ],
      "execution_count": null,
      "outputs": []
    },
    {
      "cell_type": "code",
      "metadata": {
        "colab": {
          "base_uri": "https://localhost:8080/",
          "height": 989
        },
        "id": "hGkOqGkiAWyw",
        "outputId": "f7df27cd-6ad1-48c1-f084-bfa4c6da43c5"
      },
      "source": [
        "scrape_topics()"
      ],
      "execution_count": null,
      "outputs": [
        {
          "output_type": "execute_result",
          "data": {
            "text/html": [
              "<div>\n",
              "<style scoped>\n",
              "    .dataframe tbody tr th:only-of-type {\n",
              "        vertical-align: middle;\n",
              "    }\n",
              "\n",
              "    .dataframe tbody tr th {\n",
              "        vertical-align: top;\n",
              "    }\n",
              "\n",
              "    .dataframe thead th {\n",
              "        text-align: right;\n",
              "    }\n",
              "</style>\n",
              "<table border=\"1\" class=\"dataframe\">\n",
              "  <thead>\n",
              "    <tr style=\"text-align: right;\">\n",
              "      <th></th>\n",
              "      <th>Title</th>\n",
              "      <th>Description</th>\n",
              "      <th>url</th>\n",
              "    </tr>\n",
              "  </thead>\n",
              "  <tbody>\n",
              "    <tr>\n",
              "      <th>0</th>\n",
              "      <td>3D</td>\n",
              "      <td>3D modeling is the process of virtually develo...</td>\n",
              "      <td>https://github.com/topics/3d</td>\n",
              "    </tr>\n",
              "    <tr>\n",
              "      <th>1</th>\n",
              "      <td>Ajax</td>\n",
              "      <td>Ajax is a technique for creating interactive w...</td>\n",
              "      <td>https://github.com/topics/ajax</td>\n",
              "    </tr>\n",
              "    <tr>\n",
              "      <th>2</th>\n",
              "      <td>Algorithm</td>\n",
              "      <td>Algorithms are self-contained sequences that c...</td>\n",
              "      <td>https://github.com/topics/algorithm</td>\n",
              "    </tr>\n",
              "    <tr>\n",
              "      <th>3</th>\n",
              "      <td>Amp</td>\n",
              "      <td>Amp is a non-blocking concurrency framework fo...</td>\n",
              "      <td>https://github.com/topics/amphp</td>\n",
              "    </tr>\n",
              "    <tr>\n",
              "      <th>4</th>\n",
              "      <td>Android</td>\n",
              "      <td>Android is an operating system built by Google...</td>\n",
              "      <td>https://github.com/topics/android</td>\n",
              "    </tr>\n",
              "    <tr>\n",
              "      <th>5</th>\n",
              "      <td>Angular</td>\n",
              "      <td>Angular is an open source web application plat...</td>\n",
              "      <td>https://github.com/topics/angular</td>\n",
              "    </tr>\n",
              "    <tr>\n",
              "      <th>6</th>\n",
              "      <td>Ansible</td>\n",
              "      <td>Ansible is a simple and powerful automation en...</td>\n",
              "      <td>https://github.com/topics/ansible</td>\n",
              "    </tr>\n",
              "    <tr>\n",
              "      <th>7</th>\n",
              "      <td>API</td>\n",
              "      <td>An API (Application Programming Interface) is ...</td>\n",
              "      <td>https://github.com/topics/api</td>\n",
              "    </tr>\n",
              "    <tr>\n",
              "      <th>8</th>\n",
              "      <td>Arduino</td>\n",
              "      <td>Arduino is an open source hardware and softwar...</td>\n",
              "      <td>https://github.com/topics/arduino</td>\n",
              "    </tr>\n",
              "    <tr>\n",
              "      <th>9</th>\n",
              "      <td>ASP.NET</td>\n",
              "      <td>ASP.NET is a web framework for building modern...</td>\n",
              "      <td>https://github.com/topics/aspnet</td>\n",
              "    </tr>\n",
              "    <tr>\n",
              "      <th>10</th>\n",
              "      <td>Atom</td>\n",
              "      <td>Atom is a open source text editor built with w...</td>\n",
              "      <td>https://github.com/topics/atom</td>\n",
              "    </tr>\n",
              "    <tr>\n",
              "      <th>11</th>\n",
              "      <td>Awesome Lists</td>\n",
              "      <td>An awesome list is a list of awesome things cu...</td>\n",
              "      <td>https://github.com/topics/awesome</td>\n",
              "    </tr>\n",
              "    <tr>\n",
              "      <th>12</th>\n",
              "      <td>Amazon Web Services</td>\n",
              "      <td>Amazon Web Services provides on-demand cloud c...</td>\n",
              "      <td>https://github.com/topics/aws</td>\n",
              "    </tr>\n",
              "    <tr>\n",
              "      <th>13</th>\n",
              "      <td>Azure</td>\n",
              "      <td>Azure is a cloud computing service created by ...</td>\n",
              "      <td>https://github.com/topics/azure</td>\n",
              "    </tr>\n",
              "    <tr>\n",
              "      <th>14</th>\n",
              "      <td>Babel</td>\n",
              "      <td>Babel is a compiler for writing next generatio...</td>\n",
              "      <td>https://github.com/topics/babel</td>\n",
              "    </tr>\n",
              "    <tr>\n",
              "      <th>15</th>\n",
              "      <td>Bash</td>\n",
              "      <td>Bash is a shell and command language interpret...</td>\n",
              "      <td>https://github.com/topics/bash</td>\n",
              "    </tr>\n",
              "    <tr>\n",
              "      <th>16</th>\n",
              "      <td>Bitcoin</td>\n",
              "      <td>Bitcoin is a cryptocurrency developed by Satos...</td>\n",
              "      <td>https://github.com/topics/bitcoin</td>\n",
              "    </tr>\n",
              "    <tr>\n",
              "      <th>17</th>\n",
              "      <td>Bootstrap</td>\n",
              "      <td>Bootstrap is an HTML, CSS, and JavaScript fram...</td>\n",
              "      <td>https://github.com/topics/bootstrap</td>\n",
              "    </tr>\n",
              "    <tr>\n",
              "      <th>18</th>\n",
              "      <td>Bot</td>\n",
              "      <td>A bot is an application that runs automated ta...</td>\n",
              "      <td>https://github.com/topics/bot</td>\n",
              "    </tr>\n",
              "    <tr>\n",
              "      <th>19</th>\n",
              "      <td>C</td>\n",
              "      <td>C is a general purpose programming language th...</td>\n",
              "      <td>https://github.com/topics/c</td>\n",
              "    </tr>\n",
              "    <tr>\n",
              "      <th>20</th>\n",
              "      <td>Chrome</td>\n",
              "      <td>Chrome is a web browser from the tech company ...</td>\n",
              "      <td>https://github.com/topics/chrome</td>\n",
              "    </tr>\n",
              "    <tr>\n",
              "      <th>21</th>\n",
              "      <td>Chrome extension</td>\n",
              "      <td>Google Chrome Extensions are add-ons that allo...</td>\n",
              "      <td>https://github.com/topics/chrome-extension</td>\n",
              "    </tr>\n",
              "    <tr>\n",
              "      <th>22</th>\n",
              "      <td>Command line interface</td>\n",
              "      <td>A CLI, or command-line interface, is a console...</td>\n",
              "      <td>https://github.com/topics/cli</td>\n",
              "    </tr>\n",
              "    <tr>\n",
              "      <th>23</th>\n",
              "      <td>Clojure</td>\n",
              "      <td>Clojure is a dynamic, general-purpose programm...</td>\n",
              "      <td>https://github.com/topics/clojure</td>\n",
              "    </tr>\n",
              "    <tr>\n",
              "      <th>24</th>\n",
              "      <td>Code quality</td>\n",
              "      <td>Automate your code review with style, quality,...</td>\n",
              "      <td>https://github.com/topics/code-quality</td>\n",
              "    </tr>\n",
              "    <tr>\n",
              "      <th>25</th>\n",
              "      <td>Code review</td>\n",
              "      <td>Ensure your code meets quality standards and s...</td>\n",
              "      <td>https://github.com/topics/code-review</td>\n",
              "    </tr>\n",
              "    <tr>\n",
              "      <th>26</th>\n",
              "      <td>Compiler</td>\n",
              "      <td>Compilers are software that translate higher-l...</td>\n",
              "      <td>https://github.com/topics/compiler</td>\n",
              "    </tr>\n",
              "    <tr>\n",
              "      <th>27</th>\n",
              "      <td>Continuous integration</td>\n",
              "      <td>Automatically build and test your code as you ...</td>\n",
              "      <td>https://github.com/topics/continuous-integration</td>\n",
              "    </tr>\n",
              "    <tr>\n",
              "      <th>28</th>\n",
              "      <td>COVID-19</td>\n",
              "      <td>The coronavirus disease 2019 (COVID-19) is an ...</td>\n",
              "      <td>https://github.com/topics/covid-19</td>\n",
              "    </tr>\n",
              "    <tr>\n",
              "      <th>29</th>\n",
              "      <td>C++</td>\n",
              "      <td>C++ is a general purpose and object-oriented p...</td>\n",
              "      <td>https://github.com/topics/cpp</td>\n",
              "    </tr>\n",
              "  </tbody>\n",
              "</table>\n",
              "</div>"
            ],
            "text/plain": [
              "                     Title  ...                                               url\n",
              "0                       3D  ...                      https://github.com/topics/3d\n",
              "1                     Ajax  ...                    https://github.com/topics/ajax\n",
              "2                Algorithm  ...               https://github.com/topics/algorithm\n",
              "3                      Amp  ...                   https://github.com/topics/amphp\n",
              "4                  Android  ...                 https://github.com/topics/android\n",
              "5                  Angular  ...                 https://github.com/topics/angular\n",
              "6                  Ansible  ...                 https://github.com/topics/ansible\n",
              "7                      API  ...                     https://github.com/topics/api\n",
              "8                  Arduino  ...                 https://github.com/topics/arduino\n",
              "9                  ASP.NET  ...                  https://github.com/topics/aspnet\n",
              "10                    Atom  ...                    https://github.com/topics/atom\n",
              "11           Awesome Lists  ...                 https://github.com/topics/awesome\n",
              "12     Amazon Web Services  ...                     https://github.com/topics/aws\n",
              "13                   Azure  ...                   https://github.com/topics/azure\n",
              "14                   Babel  ...                   https://github.com/topics/babel\n",
              "15                    Bash  ...                    https://github.com/topics/bash\n",
              "16                 Bitcoin  ...                 https://github.com/topics/bitcoin\n",
              "17               Bootstrap  ...               https://github.com/topics/bootstrap\n",
              "18                     Bot  ...                     https://github.com/topics/bot\n",
              "19                       C  ...                       https://github.com/topics/c\n",
              "20                  Chrome  ...                  https://github.com/topics/chrome\n",
              "21        Chrome extension  ...        https://github.com/topics/chrome-extension\n",
              "22  Command line interface  ...                     https://github.com/topics/cli\n",
              "23                 Clojure  ...                 https://github.com/topics/clojure\n",
              "24            Code quality  ...            https://github.com/topics/code-quality\n",
              "25             Code review  ...             https://github.com/topics/code-review\n",
              "26                Compiler  ...                https://github.com/topics/compiler\n",
              "27  Continuous integration  ...  https://github.com/topics/continuous-integration\n",
              "28                COVID-19  ...                https://github.com/topics/covid-19\n",
              "29                     C++  ...                     https://github.com/topics/cpp\n",
              "\n",
              "[30 rows x 3 columns]"
            ]
          },
          "metadata": {},
          "execution_count": 168
        }
      ]
    },
    {
      "cell_type": "code",
      "metadata": {
        "id": "uQgxJ90SBYcg"
      },
      "source": [
        "def scrape_topics_repos():\n",
        "  print('Scraping list of topics')\n",
        "  topics_df = scrape_topics()\n",
        "\n",
        "  os.makedirs('data',exist_ok=True)\n",
        "  for index,row in topics_df.iterrows():\n",
        "    print('Scraping top repositories for \"{}\"'.format(row['Title']))\n",
        "    scrape_topic(row['url'],row['Title'])"
      ],
      "execution_count": 175,
      "outputs": []
    },
    {
      "cell_type": "code",
      "metadata": {
        "colab": {
          "base_uri": "https://localhost:8080/"
        },
        "id": "78Pqk0oDRH5T",
        "outputId": "aeb74386-5ea2-41cf-aebf-9e7dc2dea7a9"
      },
      "source": [
        "scrape_topics_repos()"
      ],
      "execution_count": 177,
      "outputs": [
        {
          "output_type": "stream",
          "text": [
            "Scraping list of topics\n",
            "Scraping top repositories for \"3D\"\n",
            "The file 3D already exists.Skipping..\n",
            "Scraping top repositories for \"Ajax\"\n",
            "The file Ajax already exists.Skipping..\n",
            "Scraping top repositories for \"Algorithm\"\n",
            "The file Algorithm already exists.Skipping..\n",
            "Scraping top repositories for \"Amp\"\n",
            "The file Amp already exists.Skipping..\n",
            "Scraping top repositories for \"Android\"\n",
            "The file Android already exists.Skipping..\n",
            "Scraping top repositories for \"Angular\"\n",
            "The file Angular already exists.Skipping..\n",
            "Scraping top repositories for \"Ansible\"\n",
            "The file Ansible already exists.Skipping..\n",
            "Scraping top repositories for \"API\"\n",
            "The file API already exists.Skipping..\n",
            "Scraping top repositories for \"Arduino\"\n",
            "The file Arduino already exists.Skipping..\n",
            "Scraping top repositories for \"ASP.NET\"\n",
            "The file ASP.NET already exists.Skipping..\n",
            "Scraping top repositories for \"Atom\"\n",
            "The file Atom already exists.Skipping..\n",
            "Scraping top repositories for \"Awesome Lists\"\n",
            "The file Awesome Lists already exists.Skipping..\n",
            "Scraping top repositories for \"Amazon Web Services\"\n",
            "The file Amazon Web Services already exists.Skipping..\n",
            "Scraping top repositories for \"Azure\"\n",
            "The file Azure already exists.Skipping..\n",
            "Scraping top repositories for \"Babel\"\n",
            "The file Babel already exists.Skipping..\n",
            "Scraping top repositories for \"Bash\"\n",
            "The file Bash already exists.Skipping..\n",
            "Scraping top repositories for \"Bitcoin\"\n",
            "The file Bitcoin already exists.Skipping..\n",
            "Scraping top repositories for \"Bootstrap\"\n",
            "The file Bootstrap already exists.Skipping..\n",
            "Scraping top repositories for \"Bot\"\n",
            "The file Bot already exists.Skipping..\n",
            "Scraping top repositories for \"C\"\n",
            "Scraping top repositories for \"Chrome\"\n",
            "Scraping top repositories for \"Chrome extension\"\n",
            "Scraping top repositories for \"Command line interface\"\n",
            "Scraping top repositories for \"Clojure\"\n",
            "Scraping top repositories for \"Code quality\"\n",
            "Scraping top repositories for \"Code review\"\n",
            "Scraping top repositories for \"Compiler\"\n",
            "Scraping top repositories for \"Continuous integration\"\n",
            "Scraping top repositories for \"COVID-19\"\n",
            "Scraping top repositories for \"C++\"\n"
          ],
          "name": "stdout"
        }
      ]
    },
    {
      "cell_type": "code",
      "metadata": {
        "id": "KwwRRhuTUBqg"
      },
      "source": [
        ""
      ],
      "execution_count": null,
      "outputs": []
    },
    {
      "cell_type": "code",
      "metadata": {
        "id": "yTejnBCLvWWO"
      },
      "source": [
        "from google.colab import drive\n",
        "drive.mount('/content/drive')"
      ],
      "execution_count": null,
      "outputs": []
    }
  ]
}